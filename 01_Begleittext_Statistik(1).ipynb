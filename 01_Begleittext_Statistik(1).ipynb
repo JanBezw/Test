{
 "cells": [
  {
   "cell_type": "markdown",
   "metadata": {},
   "source": [
    "# Python: eine Einführung mit Jupyter-Notebooks für das Modul BIS-124\n",
    "\n",
    "BIS-124 | Statistik | Prof. Dr. Michael Autenrieth | Jan Bezwerk"
   ]
  },
  {
   "cell_type": "markdown",
   "metadata": {},
   "source": [
    "In der Veranstaltutung BIS-124 wird die Programmiersprache Python in Form von Jupyter-Notebooks genutzt. Dieses Dokument ist so ein Jupyter-Notebook. Die Jupyter-Notebooks sollen uns im Laufe der Veranstaltung als Taschenrechner, Dateneinlesetool, Zeichner von Funktionen und Graphen und als Tabellenwerk unterstützen. Mithilfe dieses Dokumentes, wollen wir in in das Thema einsteigen, einige Dinge ausprobieren und uns mit Jupyter-Notebooks vertraut machen. \n",
    "\n",
    "Vielleicht vorab die Antwort auf die Frage, warum wir mit Jupyter-Notebooks arbeiten wollen. \n",
    "\n",
    "Zum einen wäre die berufliche Relevanz, vorallem der Programmiersprache Python. Wie sie hoffentlich sehen werden ist Python sehr intuitiv, zugänglich, leicht verständlich und wie sie vielleicht wissen, sind Python-Kenntnisse in der Arbeitswelt sehr gefragt. \n",
    "\n",
    "Zum anderen wäre die Angemessenheit. Taschenrechner und Rechenoperationen von Hand durchzuführen ist nicht zeitgemäß und wird in Ihrer beruflichen Praxis eine wenig relevante Rolle einnehmen, da dies durch Programmieren und Durchführen von Rechnung mit einem Computer effizienter und eleganter gelöst werden kann. Diese Kenntnisse wollen wir hier mit diesem Modul vermitteln und von diesen Kenntnissen sollen sie profitieren, sei es für den weiteren Verlauf ihres Studiums oder für ihren beruflichen Werdegang."
   ]
  },
  {
   "cell_type": "markdown",
   "metadata": {},
   "source": [
    "<a id=\"Inhalt\"></a>\n",
    "## Inhalt\n",
    "\n",
    "* [Zugang zur Jupyter-Notebook Umgebung](#Zugang)\n",
    "* [Navigation in Jupyter-Notebooks](#Navigation)\n",
    "* [Einfache Befehle in Python](#Einfach)\n",
    "* [Import von Modulen in Python](#Import)\n",
    "* [Vektoren in Python: Numpy.array](#Vektoren)\n",
    "* [Urlisten in in Python: pd.DataFrame](#Urlisten)\n",
    "* [Plotten von Grafiken](#Plotten)\n",
    "* [Nützliche Befehle zur Bearbeitung des ersten Übungsblattes](#Übung)"
   ]
  },
  {
   "cell_type": "markdown",
   "metadata": {},
   "source": [
    "<a id=\"Zugang\"></a>\n",
    "## Zugang zur Jupyter-Notebook Umgebung\n",
    "\n",
    "[nach oben](#Inhalt) \n"
   ]
  },
  {
   "cell_type": "markdown",
   "metadata": {},
   "source": [
    "Um auf Jupyter-Notebooks zuzugreifen wollen wir die GWDG-Cloud nutzen. Dazu öffnen wir den Link: https://jupyter-cloud.gwdg.de/ und klicken auf Login. Auf der nächsten Seite klicken wir auf den Button \"Föderierte Anmeldung\" und wählen die \"Hochschule Hannover University of applied sciences and arts\" aus und klicken auf Anmeldung fortsetzen. Anschließend geben wir unseren sso-Kennung sowie unser Password ein und drücken auf den orangenen Start-Button$^*$. Abschließend öffnet sich ein Fenster mit vielen Kacheln und wir wählen im Reiter Notebook die Kachel Python 3 (ipykernel) aus.\n",
    "\n",
    "Alternativ können sie auch eine lokale Version von Anaconda (https://www.anaconda.com/) installieren oder Google Colaboratory (https://colab.research.google.com/) nutzen.\n",
    "\n",
    "\n",
    "------\n",
    "<font size=0.8em>\n",
    "$^*$ Das Image, welches wir nutzen ist das GWDG default image (based on jupyter/datascience-notebook)\n",
    "</font>"
   ]
  },
  {
   "cell_type": "markdown",
   "metadata": {},
   "source": [
    "<a id=\"Navigation\"></a>\n",
    "## Navigation in Jupyter-Notebooks\n",
    "[nach oben](#Inhalt)"
   ]
  },
  {
   "cell_type": "markdown",
   "metadata": {},
   "source": [
    "In der oberen Zeile sind Icons, für Funktionen des Jupyter-Notebooks. Zuallererst die Möglichkeit zu speichern, das Disketten-Icon, oder `Strg + s`. Gefolgt von der Möglichkeit eine weitere Zelle hinzuzufügen, das Plus-Icon. Dann die Möglichkeit eine Zelle auszuschneiden, dass Scheren-Icon. Und selbstverständlich das kopieren und einfügen, die zwei Rechtecke bzw. das Klemmbrett Icon.\n",
    "Eine Zelle kann mit `Shift + Enter` ausgeführt werden oder mit dem \"Play\"-Icon in der obersten Zeile. Rechts daneben ist das \"Stop\"-Icon, welches alle Prozesse stoppt. Das Runder-Pfeil-Icon erzwingt einen Neustart und das Doppelpfeil-Icon einen Neustart mit anschließender Ausführung aller Zellen.  An der linken Seite befindet sich ein File-Explorer, welcher Daten, Ordner und Unterordner anzeigt, ähnlich wie der Explorer bei Windows oder Mac. Wenn die Maus unter der letzten Zelle hinbewegt wird, besteht die Möglichkeit ebenfalls weitere Zellen hinzuzufügen."
   ]
  },
  {
   "cell_type": "markdown",
   "metadata": {},
   "source": [
    "Der Vollständigkeit halber wird noch der letzte Punkt, auf dem das Wort \"Code\" steht erwähnt. Jupyter-Notebooks unterstützen drei \"Sprachen\": Code, Markdown und Raw. Für die Veranstaltung ist lediglich der \"Code\" von Relevanz. Alle Blöcke in diesem Notebook, welche Text beinhalten, sind in Markdown geschrieben. Dies soll uns aber im Weiteren nicht kümmern."
   ]
  },
  {
   "cell_type": "markdown",
   "metadata": {},
   "source": [
    "<a id=\"Einfach\"></a>\n",
    "## Einfache Befehle in Python\n",
    "\n",
    "[nach oben](#Inhalt) \n"
   ]
  },
  {
   "cell_type": "markdown",
   "metadata": {},
   "source": [
    "Jupyter-Notebooks bestehen aus Zellen, die ausgeführt werden. So sieht eine leere Zelle aus."
   ]
  },
  {
   "cell_type": "code",
   "execution_count": null,
   "metadata": {},
   "outputs": [],
   "source": []
  },
  {
   "cell_type": "markdown",
   "metadata": {},
   "source": [
    "Diese Zelle wollen wir nun füllen. In Python werden Zahlen als Variablen abgespeichert werden. Dies geschiet wie folgt:"
   ]
  },
  {
   "cell_type": "code",
   "execution_count": 2,
   "metadata": {},
   "outputs": [],
   "source": [
    "x = 2\n",
    "y = 2 + 4\n",
    "z = (x + y) * x"
   ]
  },
  {
   "cell_type": "markdown",
   "metadata": {},
   "source": [
    "Nicht nur Zahlen, auch Buchstaben, Wörter und ganze Texte können in Python Variablen zugewiesen werden. Dafür werden Anführungszeichen (`\"\"`) verwendet. Mittels des Befehls `print()` können die gespeicherten Variablen ausgegeben werden. Mittels `#` kann ein Kommentar geschrieben. Dieser wird nicht ausgeführt."
   ]
  },
  {
   "cell_type": "code",
   "execution_count": 3,
   "metadata": {},
   "outputs": [
    {
     "name": "stdout",
     "output_type": "stream",
     "text": [
      "Die Zahl z:  16\n",
      "Hallo\n"
     ]
    }
   ],
   "source": [
    "# Dies ist ein Kommentar\n",
    "a = \"Hallo\"\n",
    "print(\"Die Zahl z: \",z)\n",
    "print(a)"
   ]
  },
  {
   "cell_type": "markdown",
   "metadata": {},
   "source": [
    "Code kann zellenübergreifend aufgerufen werden. So haben wir erst in einer Zelle die Variable `z` definiert und sie in der nächsten Zelle über den Befehl `print()` aufgerufen.\n"
   ]
  },
  {
   "cell_type": "markdown",
   "metadata": {},
   "source": [
    "Was passiert, wenn wir absichtlich einen Fehler machen? Wir wollen mal die Variable `k` mit dem Befehl `print()` ausgeben, die wir vorher nicht definieren, um zu schauen, wie eine Fehlermeldung in Pyhton aussieht."
   ]
  },
  {
   "cell_type": "code",
   "execution_count": 3,
   "metadata": {},
   "outputs": [
    {
     "ename": "NameError",
     "evalue": "name 'k' is not defined",
     "output_type": "error",
     "traceback": [
      "\u001b[1;31m---------------------------------------------------------------------------\u001b[0m",
      "\u001b[1;31mNameError\u001b[0m                                 Traceback (most recent call last)",
      "Cell \u001b[1;32mIn[3], line 1\u001b[0m\n\u001b[1;32m----> 1\u001b[0m \u001b[38;5;28mprint\u001b[39m(k)\n",
      "\u001b[1;31mNameError\u001b[0m: name 'k' is not defined"
     ]
    }
   ],
   "source": [
    "print(k)"
   ]
  },
  {
   "cell_type": "markdown",
   "metadata": {},
   "source": [
    "Wie wir sehen, ist Python in der Lage uns etwas Kontext zu dem Fehler zu geben. Zwar ist der in Englisch (die internationale Sprache im Programmieren ist englisch), jedoch können wir, sofern wir englisch verstehen oder aber einen Übersetzer nutzen, erfahren, dass k nicht definiert ist und deswegen der `print()`-Befehl nicht ausgeführt wurde. Python sagt uns ebenfalls in welcher Zelle und in welcher Zeile der Fehler auftritt. Fehlermeldungen und deren Auswertung wird uns im Laufe der Veranstaltung immer wieder begegnen, weswegen es zwecklos und sogar unmöglich wäre, hier alle Fehler aufzulisten."
   ]
  },
  {
   "cell_type": "markdown",
   "metadata": {},
   "source": [
    "\n",
    "Mit folgenden Rechenoperationen wollen wir in Python arbeiten$^*$:\n",
    "- Addition (`+`)\n",
    "- Multiplikation (`*`)\n",
    "- Subtraktion (`-`)\n",
    "- Division (`/`)\n",
    "- Potenzierung (`**`)\n",
    "\n",
    "\n",
    "Kommazahlen werden in Python nicht mit einem Komma sondern mit einem Punkt geschrieben (`2.3`)  \n",
    "Anbei ein paar Beispiele:\n",
    "\n",
    "------\n",
    "<font size=0.8em>\n",
    "$^*$Es gibt noch mehr Operationen, diese interessieren uns in dieser Veranstaltung jedoch nicht\n",
    "</font>\n"
   ]
  },
  {
   "cell_type": "code",
   "execution_count": 4,
   "metadata": {},
   "outputs": [
    {
     "name": "stdout",
     "output_type": "stream",
     "text": [
      "0.25 0.25 0.5 0.5 3\n"
     ]
    }
   ],
   "source": [
    "a = 1 / 4\n",
    "b = 0.5**2\n",
    "c = 0.25**(1/2)\n",
    "d = 0.25**(0.5)\n",
    "x = 3\n",
    "print(a,b,c,d,x)"
   ]
  },
  {
   "cell_type": "markdown",
   "metadata": {},
   "source": [
    "Mit einem Komma wird in Python ein Trennzeichen gesetzt. Dadurch lassen sich z.B. mehere Elemente ausgeben. Bei den Variablen `c` und `d` wird die Wurzel gezogen. Dies geschiet, indem man mit 1/2 potenziert. Variablen können auch überschrieben werden. Die Variable `x` war vorher 2 und wurde jetzt als 3 abgespeichert. "
   ]
  },
  {
   "cell_type": "markdown",
   "metadata": {},
   "source": [
    "<a id=\"Import\"></a>\n",
    "## Import von Modulen in Python\n",
    "\n",
    "[nach oben](#Inhalt) "
   ]
  },
  {
   "cell_type": "markdown",
   "metadata": {},
   "source": [
    "Eine Besonderheit in Python ist der Import von Modulen. Module sind bereits geschriebene Code-Bibliotheken mit fertigen und ggf. optimierten Funktionen, welche zur freien Verfügung stehen. Vorteil dieser Imports sind zum einen, dass der Code lesbarer wird und das neue Funktionen nicht von vorne programmiert werden müssen. Ggf. müssen Module installiert werden. Dies erfolgt mit dem folgenden Befehl."
   ]
  },
  {
   "cell_type": "code",
   "execution_count": 14,
   "metadata": {},
   "outputs": [
    {
     "name": "stdout",
     "output_type": "stream",
     "text": [
      "Requirement already satisfied: numpy in c:\\users\\pc-admin\\anaconda3\\lib\\site-packages (1.24.3)\n",
      "Note: you may need to restart the kernel to use updated packages.\n"
     ]
    }
   ],
   "source": [
    "pip install numpy"
   ]
  },
  {
   "cell_type": "markdown",
   "metadata": {},
   "source": [
    "In diesem Fall und im Idealfall ist das Modul mit dem Namen `numpy` (Numerical Python) bereits vorinstalliert. Wenn wir im weiteren Verlauf der Veranstaltung neue Module einführen kann mit dem Befehl `pip install Name des Moduls` überprüft werden, ob das Modul bereits installiert ist. Sollte das Modul bereits installiert sein, dann wird Python das einem mitteilen. Andernfalls erfolgt eine Installation.$^*$\n",
    "\n",
    "---------\n",
    "<font size=0.8em>\n",
    "$^*$ Wie überall gilt, installieren sie nur Dinge, von vertrauenswürdigen Seiten.\n",
    "</font>"
   ]
  },
  {
   "cell_type": "markdown",
   "metadata": {},
   "source": [
    "Nun wollen wir das Modul `numpy` nutzen. Dafür importieren wir dieses Modul in unsere Arbeitsumgebung. Ein `import` sieht dabei wie folgt aus."
   ]
  },
  {
   "cell_type": "code",
   "execution_count": null,
   "metadata": {},
   "outputs": [],
   "source": [
    "import numpy"
   ]
  },
  {
   "cell_type": "markdown",
   "metadata": {},
   "source": [
    "Man kann diesem `import` auch eine Abkürzung vergeben um etwas Schreibarbeit einzusparen. Dafür schreibt man das Folgende:"
   ]
  },
  {
   "cell_type": "code",
   "execution_count": null,
   "metadata": {},
   "outputs": [],
   "source": [
    "import numpy as np"
   ]
  },
  {
   "cell_type": "markdown",
   "metadata": {},
   "source": [
    "Bibliotheken können unterschiedliche Größen aufweisen. Falls wir nur bestimmte Funktionen einer Bibliothek brauchen, um bspw. Speicherplatz zu sparen, können wir auch nur bestimmte Funktionen einer Bibliothek importieren. Wir wollen aus `numpy` uns die Kreiszahl pi ausgeben."
   ]
  },
  {
   "cell_type": "code",
   "execution_count": 123,
   "metadata": {},
   "outputs": [
    {
     "name": "stdout",
     "output_type": "stream",
     "text": [
      "3.141592653589793\n",
      "3.141592653589793\n"
     ]
    }
   ],
   "source": [
    "from numpy import pi\n",
    "print(pi)\n",
    "import numpy as np\n",
    "print(np.pi)"
   ]
  },
  {
   "cell_type": "markdown",
   "metadata": {},
   "source": [
    "Wie wir sehen, wurden uns der Wert für pi hinterlegte Wert der Bibliothek `numpy` ausgegeben, einmal als import der Funktion `pi` und einmal als import der gesamten Bibliothek `numpy` abgekürzt zu `np`$^*$. Dies ist äquvivalent zu einem Taschenrechner, welcher ebenfalls einen festgelegten Wert für pi innehat.\n",
    "\n",
    "Noch ein kleiner Punkt zur Schreibweise. Wenn wir eine ganze Bibliothek importieren, dann müssen wir immer, wenn wir mit dieser Bibliothek arbeiten wollen, mittels unserer gewählten Abkürzung (in diesem Fall `np`) signalisieren, dass wir einen Befehl aus dem Modul `numpy` meinen [`np.pi`]. Wenn wir aber bestimmte Funktionen aus einer Bibliothek importieren, dann entfällt diese gezielte Ansprache [`pi`].\n",
    "\n",
    "--------\n",
    "<font size=0.8em>\n",
    "$^*$ import numpy as np ist die gängige Abkürzung für den import der Bibliothek numpy\n",
    "</font>"
   ]
  },
  {
   "cell_type": "markdown",
   "metadata": {},
   "source": [
    "<a id=\"Vektoren\"></a>\n",
    "## Vektoren in Python: numpy.array\n",
    "\n",
    "[nach oben](#Inhalt) "
   ]
  },
  {
   "cell_type": "markdown",
   "metadata": {},
   "source": [
    "Im Rahmen dieser Veranstaltung werden wir einige Datentypen kennenlernen. Es empfiehlt sich immer mal wieder einen Blick auf die Python-Befehlsliste (siehe Moodle) zu werfen. Wenn wir diese vergleichen, mit den Themen, welche wir bisher besprochen haben, so stellen wir fest, dass wir die Themen # Rechnen und # Variablen bereits behandelt haben. Als nächstes wollen wir uns, wie der Titel es bereits erahnen lässt, dem Thema # Vektoren widmen. Vektoren, wie wir mit ihnen arbeiten wollen, existieren in Python nicht in der Weise, wie wir sie benötigen. Glücklicherweise liefertdie Bibliothek `numpy` eine geeignete Funktion hierzu, das `numpy.array([])`. Wir wollen ein solches erzeugen, mit den folgenden Zahlen $0;1/2;2;2;3;5;7;9;11,2$"
   ]
  },
  {
   "cell_type": "code",
   "execution_count": 58,
   "metadata": {},
   "outputs": [
    {
     "name": "stdout",
     "output_type": "stream",
     "text": [
      "[ 0.   0.5  2.   2.   3.   5.   7.   9.  11.   2. ]\n"
     ]
    }
   ],
   "source": [
    "import numpy\n",
    "X = numpy.array([0,1/2,2,2,3,5,7,9,11,2])\n",
    "print(X)"
   ]
  },
  {
   "cell_type": "markdown",
   "metadata": {},
   "source": [
    "Wenn wir bestimmte Zahlen in ein `numpy.array()` schreiben wollen benötigen wir `[]` innerhalb der runden Klammern. Zahlen in eckigen Klammern sind Listen, ein Datentyp, welcher in Python existiert. Dieser wird uns ggf. im Laufe der weiteren Veranstaltung beschäftigen. Wichtig für uns ist im Moment nur: Wenn wir eine bestimmte Menge von Zahlen einem `numpy.array()` zuweisen wollen, so benötigen wir eckige Klammern.\n",
    "\n",
    "Die folgenden Dinge können wir mit `numpy.arrays()` tun:\n",
    "\n",
    "- Eine Rechenoperation (`+` ; `-` ; `*` ; `/` ; `**`) auf alle Werte des Vektors anwenden\n",
    "- Die Summe aller Elemente eines Vektors berechnen\n",
    "- Den Vektor aufsteigend sortieren\n",
    "- Die Länge des Vektors (die Anzahl der Elemente) ausgeben"
   ]
  },
  {
   "cell_type": "code",
   "execution_count": 65,
   "metadata": {},
   "outputs": [
    {
     "name": "stdout",
     "output_type": "stream",
     "text": [
      "[ 0.  1.  4.  4.  6. 10. 14. 18. 22.  4.]\n",
      "[  0.     0.25   4.     4.     9.    25.    49.    81.   121.     4.  ]\n",
      "41.5\n",
      "[ 0.   0.5  2.   2.   2.   3.   5.   7.   9.  11. ]\n",
      "10\n"
     ]
    }
   ],
   "source": [
    "print(X*2)\n",
    "print(X**2)\n",
    "print(X.sum())\n",
    "print(numpy.sort(X))\n",
    "print(len(X))"
   ]
  },
  {
   "cell_type": "markdown",
   "metadata": {},
   "source": [
    "Wir haben festgestellt, dass unsere bisherigen Möglichkeiten sich problemlos auf `numpy.arrays([])` übertragen lassen. Zusätzlich haben wir gelernt, dass sich die Summe berechnen, der Vektor aufsteigend sortieren und die Länge des Vektors ausgeben lässt. Was können wir noch mit Vektoren tun?\n",
    "\n",
    "Wenn wir einen Blick auf die Befehlsliste in den Block # Zugreifen und Zählen werfen, sehen wir noch weitere Dinge, die wir mit einem `numpy.array([])` tun können."
   ]
  },
  {
   "cell_type": "code",
   "execution_count": 121,
   "metadata": {},
   "outputs": [
    {
     "name": "stdout",
     "output_type": "stream",
     "text": [
      "sechster Wert:  5.0\n",
      "sortierter sechster Wert:  3.0\n"
     ]
    }
   ],
   "source": [
    "print(\"sechster Wert: \",X[5])\n",
    "print(\"sortierter sechster Wert: \",numpy.sort(X)[5])"
   ]
  },
  {
   "cell_type": "markdown",
   "metadata": {},
   "source": [
    "Wir sind in der Lage uns einzelne Elemente eines Vektors anzuschauen. Wichtig dabei ist anzumerken, dass das Zählen bei Python mit 0 beginnt (ähnlich wie in vielen anderen Programmiersprachen) und wir, wenn wir uns wie im Beispiel das sechste Element anschauen wollen, die Ausgabe an die Stelle 5 legen. Auch können wir den Vektor erst sortieren und im Anschluss uns ein Element an einer beliebigen Stelle ausgeben. Wenn wir, wie in unserem Beispiel, das sechste Element nach der Sortierung ausgeben, stellen wir fest, dass dort ein anderer Wert steht.\n",
    "\n",
    "Wir wollen jetzt herausfinden, wie groß der Prozentsatz der Werte ist, welche kleiner als 6 sind."
   ]
  },
  {
   "cell_type": "code",
   "execution_count": 117,
   "metadata": {},
   "outputs": [
    {
     "name": "stdout",
     "output_type": "stream",
     "text": [
      "Prozentsatz x < 6:  0.7\n"
     ]
    }
   ],
   "source": [
    "x = (X < 6).sum()/len(X)\n",
    "print(\"Prozentsatz x < 6: \",x)"
   ]
  },
  {
   "cell_type": "markdown",
   "metadata": {},
   "source": [
    "Es ist möglich Bedingungen festzulegen, welche beim Auslesen des Vektors berücksichtigt werden: `(X < 6)`. Ebenfalls wollen wir uns den Mittelwert unseres Vektors `X` hier einmal ausrechnen."
   ]
  },
  {
   "cell_type": "code",
   "execution_count": 116,
   "metadata": {},
   "outputs": [
    {
     "name": "stdout",
     "output_type": "stream",
     "text": [
      "Mittelwert:  4.15\n"
     ]
    }
   ],
   "source": [
    "print(\"Mittelwert: \",X.sum()/len(X))"
   ]
  },
  {
   "cell_type": "markdown",
   "metadata": {},
   "source": [
    "Eine weitere Möglichkeit den Prozentsatz oder den Mittelwert zu berechnen ist über die Funktion `mean`, welche Bestandteil der Bibliothek numpy ist."
   ]
  },
  {
   "cell_type": "code",
   "execution_count": 119,
   "metadata": {},
   "outputs": [
    {
     "name": "stdout",
     "output_type": "stream",
     "text": [
      "Prozentsatz x > 6:  0.3\n",
      "Mittelwert  4.15\n"
     ]
    }
   ],
   "source": [
    "print(\"Prozentsatz x > 6: \",(X > 6).mean())\n",
    "print(\"Mittelwert \",X.mean())"
   ]
  },
  {
   "cell_type": "markdown",
   "metadata": {},
   "source": [
    "\n",
    "Ein wichtiger Hinweis hierzu. Dies ist nur möglich, da wir in der Bibliothek `numpy` arbeiten. Andere Bibliotheken und Datentypen, mit denen wir es im Laufe der Veranstaltung zu tun haben werden, sind eventuell nicht in der Lage direkt mit dem Befehl `X.mean()` zu arbeiten."
   ]
  },
  {
   "cell_type": "markdown",
   "metadata": {},
   "source": [
    "<a id=\"Urlisten\"></a>\n",
    "## Urlisten in in Python: pd.DataFrame\n",
    "\n",
    "[nach oben](#Inhalt) "
   ]
  },
  {
   "cell_type": "markdown",
   "metadata": {},
   "source": [
    "Die moderene Arbeitswelt ist ohne Excel kaum vorstellbar. Und Dataframes sind eine Möglichkeit, diese in Python darzustellen. Bevor wir uns ein DataFrame anschauen oder gar ein erzeugen, ist es viel praktischer eine bereits bekannte Tabelle einzulesen und aus ihr ein DataFrame zu erzeugen. Dafür eignet sich die Urliste aus der Vorlesung. DataFrames sind unter anderem in der Bibliothek `pandas` anzutreffen. Die Python-Befehlsliste hat einen eigenen Abschnitt für die Arbeit mit Urlisten. Erstmal aber der Einleseprozess und wir schauen uns an, was Python ausgibt."
   ]
  },
  {
   "cell_type": "code",
   "execution_count": 28,
   "metadata": {},
   "outputs": [
    {
     "name": "stdout",
     "output_type": "stream",
     "text": [
      "                   Geschlecht  Körpergröße  Schuhgröße Raucher/Raucherin  \\\n",
      "Nr des Datensatzes                                                         \n",
      "1                           m        194.0        46.0              nein   \n",
      "2                           m        183.0        43.0              nein   \n",
      "3                           m        171.0        43.0              nein   \n",
      "4                           w        159.0        39.0              nein   \n",
      "5                           m        192.0        45.0              nein   \n",
      "...                       ...          ...         ...               ...   \n",
      "779                         m        193.0        48.0                ja   \n",
      "780                         m        187.0        45.0              nein   \n",
      "781                         w        165.0        38.0                ja   \n",
      "782                         w        173.0        40.0                ja   \n",
      "783                         m        176.0        42.0              nein   \n",
      "\n",
      "                    Anzahl Geschwister  \\\n",
      "Nr des Datensatzes                       \n",
      "1                                    1   \n",
      "2                                    0   \n",
      "3                                    1   \n",
      "4                                    0   \n",
      "5                                    0   \n",
      "...                                ...   \n",
      "779                                  0   \n",
      "780                                  1   \n",
      "781                                  1   \n",
      "782                                  1   \n",
      "783                                  0   \n",
      "\n",
      "                    Länge des Weges von Wohnung zur FH (in km)  \\\n",
      "Nr des Datensatzes                                               \n",
      "1                                                          3.0   \n",
      "2                                                         65.0   \n",
      "3                                                         25.0   \n",
      "4                                                        223.0   \n",
      "5                                                          4.0   \n",
      "...                                                        ...   \n",
      "779                                                       15.0   \n",
      "780                                                        0.8   \n",
      "781                                                       70.0   \n",
      "782                                                       30.0   \n",
      "783                                                       42.0   \n",
      "\n",
      "                   Häufigstes Verkehrsmittel auf dem Weg zur FH  \\\n",
      "Nr des Datensatzes                                                \n",
      "1                                                           Rad   \n",
      "2                                                          ÖPNV   \n",
      "3                                                          ÖPNV   \n",
      "4                                                          ÖPNV   \n",
      "5                                                          ÖPNV   \n",
      "...                                                         ...   \n",
      "779                                                        Auto   \n",
      "780                                                        ÖPNV   \n",
      "781                                                        Auto   \n",
      "782                                                        ÖPNV   \n",
      "783                                                        Auto   \n",
      "\n",
      "                   Tägliche Lesen Emails Täglich in Facebook Studiengang  \\\n",
      "Nr des Datensatzes                                                         \n",
      "1                                     ja                nein         BIS   \n",
      "2                                   nein                  ja         BIS   \n",
      "3                                     ja                nein         BBA   \n",
      "4                                   nein                  ja         BIS   \n",
      "5                                     ja                  ja         BIS   \n",
      "...                                  ...                 ...         ...   \n",
      "779                                  NaN                 NaN         NaN   \n",
      "780                                  NaN                 NaN         NaN   \n",
      "781                                  NaN                 NaN         NaN   \n",
      "782                                  NaN                 NaN         NaN   \n",
      "783                                  NaN                 NaN         NaN   \n",
      "\n",
      "                   Erwartetes Einstiegsgehalt  \\\n",
      "Nr des Datensatzes                              \n",
      "1                                     über 60   \n",
      "2                                       20-30   \n",
      "3                                       40-50   \n",
      "4                                       30-40   \n",
      "5                                       20-30   \n",
      "...                                       ...   \n",
      "779                                       NaN   \n",
      "780                                       NaN   \n",
      "781                                       NaN   \n",
      "782                                       NaN   \n",
      "783                                       NaN   \n",
      "\n",
      "                   Kennen Sie Regeln von Lotto 6 aus 49 ?  \\\n",
      "Nr des Datensatzes                                          \n",
      "1                                                      ja   \n",
      "2                                                      ja   \n",
      "3                                                      ja   \n",
      "4                                                      ja   \n",
      "5                                                      ja   \n",
      "...                                                   ...   \n",
      "779                                                    ja   \n",
      "780                                                    ja   \n",
      "781                                                    ja   \n",
      "782                                                    ja   \n",
      "783                                                    ja   \n",
      "\n",
      "                   Wie oft spielen Sie Lotto 6 aus 49 ?  \\\n",
      "Nr des Datensatzes                                        \n",
      "1                                                selten   \n",
      "2                                                   nie   \n",
      "3                                                   nie   \n",
      "4                                                   nie   \n",
      "5                                                   nie   \n",
      "...                                                 ...   \n",
      "779                                              selten   \n",
      "780                                                 nie   \n",
      "781                                              selten   \n",
      "782                                                 nie   \n",
      "783                                              selten   \n",
      "\n",
      "                   Kennen Sie die Poker-Regeln ? Wie oft spielen Sie Poker ?  \\\n",
      "Nr des Datensatzes                                                             \n",
      "1                                             ja                      selten   \n",
      "2                                             ja                      selten   \n",
      "3                                           nein                         nie   \n",
      "4                                             ja                      selten   \n",
      "5                                             ja                      selten   \n",
      "...                                          ...                         ...   \n",
      "779                                           ja                      selten   \n",
      "780                                           ja                         nie   \n",
      "781                                           ja                  regelmäßig   \n",
      "782                                           ja                      selten   \n",
      "783                                           ja                      selten   \n",
      "\n",
      "                   Kennen Sie die Skat-Regeln ? Wie oft spielen Sie Skat ?  \\\n",
      "Nr des Datensatzes                                                           \n",
      "1                                          nein                        nie   \n",
      "2                                            ja                     selten   \n",
      "3                                          nein                        nie   \n",
      "4                                          nein                        nie   \n",
      "5                                          nein                        nie   \n",
      "...                                         ...                        ...   \n",
      "779                                        nein                        nie   \n",
      "780                                        nein                        nie   \n",
      "781                                        nein                        nie   \n",
      "782                                          ja                     selten   \n",
      "783                                          ja                     selten   \n",
      "\n",
      "                   Kennen Sie Regeln von Roulette ?  \\\n",
      "Nr des Datensatzes                                    \n",
      "1                                              nein   \n",
      "2                                                ja   \n",
      "3                                              nein   \n",
      "4                                                ja   \n",
      "5                                                ja   \n",
      "...                                             ...   \n",
      "779                                              ja   \n",
      "780                                              ja   \n",
      "781                                              ja   \n",
      "782                                              ja   \n",
      "783                                              ja   \n",
      "\n",
      "                   Wie oft spielen Sie Roulette ?      Veranstaltung  \n",
      "Nr des Datensatzes                                                    \n",
      "1                                             nie  Mathe2_WS2012_BIS  \n",
      "2                                          selten  Mathe2_WS2012_BIS  \n",
      "3                                             nie  Mathe2_WS2012_BIS  \n",
      "4                                          selten  Mathe2_WS2012_BIS  \n",
      "5                                             nie  Mathe2_WS2012_BIS  \n",
      "...                                           ...                ...  \n",
      "779                                           nie       Mathe2SS2010  \n",
      "780                                           nie       Mathe2SS2010  \n",
      "781                                        selten       Mathe2SS2010  \n",
      "782                                           nie       Mathe2SS2010  \n",
      "783                                        selten       Mathe2SS2010  \n",
      "\n",
      "[783 rows x 20 columns]\n"
     ]
    }
   ],
   "source": [
    "import pandas as pd\n",
    "df = pd.read_excel(\"Statistik_Übung/Anhang/Urliste.xlsx\", index_col = 0)\n",
    "print(df)"
   ]
  },
  {
   "cell_type": "markdown",
   "metadata": {},
   "source": [
    "Die Übersichtlichkeit der Ausgabe hält sich in Grenzen, jedoch ist das Arbeiten mit den DataFrames unerlässlich, weswegen wir uns den Befehl nochmal im Detail anschauen."
   ]
  },
  {
   "cell_type": "code",
   "execution_count": 22,
   "metadata": {},
   "outputs": [],
   "source": [
    "import pandas as pd\n",
    "df = pd.read_excel(\"Statistik_Übung/Anhang/Urliste.xlsx\", index_col = 0)"
   ]
  },
  {
   "cell_type": "markdown",
   "metadata": {},
   "source": [
    "Der Befehl ist letztenendes doch recht simpel aufgebaut. Nach dem Import, geben wir unserem DataFrame einen Namen und lesen ihn mittels `pd.read_excel()`$^*$ ein. \"Statistik_Übung/Anhang/Urliste.xlsx\" ist der Dateipfad, auf den der Befehl zugreifen soll. Dieser muss den lokalen Gegebenheiten des jeweiligen Computers angepasst werden. Was bewirkt `index_col = 0` ? Schauen wir uns dies mal an, indem wir es weglassen.\n",
    "\n",
    "--------\n",
    "<font size=0.8em>\n",
    "$^*$ import pandas as pd ist die gängige Abkürzung für den import der Bibliothek pandas\n",
    "</font>"
   ]
  },
  {
   "cell_type": "code",
   "execution_count": 29,
   "metadata": {},
   "outputs": [
    {
     "name": "stdout",
     "output_type": "stream",
     "text": [
      "     Nr des Datensatzes Geschlecht  Körpergröße  Schuhgröße Raucher/Raucherin  \\\n",
      "0                     1          m        194.0        46.0              nein   \n",
      "1                     2          m        183.0        43.0              nein   \n",
      "2                     3          m        171.0        43.0              nein   \n",
      "3                     4          w        159.0        39.0              nein   \n",
      "4                     5          m        192.0        45.0              nein   \n",
      "..                  ...        ...          ...         ...               ...   \n",
      "778                 779          m        193.0        48.0                ja   \n",
      "779                 780          m        187.0        45.0              nein   \n",
      "780                 781          w        165.0        38.0                ja   \n",
      "781                 782          w        173.0        40.0                ja   \n",
      "782                 783          m        176.0        42.0              nein   \n",
      "\n",
      "     Anzahl Geschwister  Länge des Weges von Wohnung zur FH (in km)  \\\n",
      "0                     1                                         3.0   \n",
      "1                     0                                        65.0   \n",
      "2                     1                                        25.0   \n",
      "3                     0                                       223.0   \n",
      "4                     0                                         4.0   \n",
      "..                  ...                                         ...   \n",
      "778                   0                                        15.0   \n",
      "779                   1                                         0.8   \n",
      "780                   1                                        70.0   \n",
      "781                   1                                        30.0   \n",
      "782                   0                                        42.0   \n",
      "\n",
      "    Häufigstes Verkehrsmittel auf dem Weg zur FH Tägliche Lesen Emails  \\\n",
      "0                                            Rad                    ja   \n",
      "1                                           ÖPNV                  nein   \n",
      "2                                           ÖPNV                    ja   \n",
      "3                                           ÖPNV                  nein   \n",
      "4                                           ÖPNV                    ja   \n",
      "..                                           ...                   ...   \n",
      "778                                         Auto                   NaN   \n",
      "779                                         ÖPNV                   NaN   \n",
      "780                                         Auto                   NaN   \n",
      "781                                         ÖPNV                   NaN   \n",
      "782                                         Auto                   NaN   \n",
      "\n",
      "    Täglich in Facebook  ... Erwartetes Einstiegsgehalt  \\\n",
      "0                  nein  ...                    über 60   \n",
      "1                    ja  ...                      20-30   \n",
      "2                  nein  ...                      40-50   \n",
      "3                    ja  ...                      30-40   \n",
      "4                    ja  ...                      20-30   \n",
      "..                  ...  ...                        ...   \n",
      "778                 NaN  ...                        NaN   \n",
      "779                 NaN  ...                        NaN   \n",
      "780                 NaN  ...                        NaN   \n",
      "781                 NaN  ...                        NaN   \n",
      "782                 NaN  ...                        NaN   \n",
      "\n",
      "    Kennen Sie Regeln von Lotto 6 aus 49 ?  \\\n",
      "0                                       ja   \n",
      "1                                       ja   \n",
      "2                                       ja   \n",
      "3                                       ja   \n",
      "4                                       ja   \n",
      "..                                     ...   \n",
      "778                                     ja   \n",
      "779                                     ja   \n",
      "780                                     ja   \n",
      "781                                     ja   \n",
      "782                                     ja   \n",
      "\n",
      "    Wie oft spielen Sie Lotto 6 aus 49 ? Kennen Sie die Poker-Regeln ?  \\\n",
      "0                                 selten                            ja   \n",
      "1                                    nie                            ja   \n",
      "2                                    nie                          nein   \n",
      "3                                    nie                            ja   \n",
      "4                                    nie                            ja   \n",
      "..                                   ...                           ...   \n",
      "778                               selten                            ja   \n",
      "779                                  nie                            ja   \n",
      "780                               selten                            ja   \n",
      "781                                  nie                            ja   \n",
      "782                               selten                            ja   \n",
      "\n",
      "    Wie oft spielen Sie Poker ? Kennen Sie die Skat-Regeln ?  \\\n",
      "0                        selten                         nein   \n",
      "1                        selten                           ja   \n",
      "2                           nie                         nein   \n",
      "3                        selten                         nein   \n",
      "4                        selten                         nein   \n",
      "..                          ...                          ...   \n",
      "778                      selten                         nein   \n",
      "779                         nie                         nein   \n",
      "780                  regelmäßig                         nein   \n",
      "781                      selten                           ja   \n",
      "782                      selten                           ja   \n",
      "\n",
      "    Wie oft spielen Sie Skat ? Kennen Sie Regeln von Roulette ?  \\\n",
      "0                          nie                             nein   \n",
      "1                       selten                               ja   \n",
      "2                          nie                             nein   \n",
      "3                          nie                               ja   \n",
      "4                          nie                               ja   \n",
      "..                         ...                              ...   \n",
      "778                        nie                               ja   \n",
      "779                        nie                               ja   \n",
      "780                        nie                               ja   \n",
      "781                     selten                               ja   \n",
      "782                     selten                               ja   \n",
      "\n",
      "    Wie oft spielen Sie Roulette ?      Veranstaltung  \n",
      "0                              nie  Mathe2_WS2012_BIS  \n",
      "1                           selten  Mathe2_WS2012_BIS  \n",
      "2                              nie  Mathe2_WS2012_BIS  \n",
      "3                           selten  Mathe2_WS2012_BIS  \n",
      "4                              nie  Mathe2_WS2012_BIS  \n",
      "..                             ...                ...  \n",
      "778                            nie       Mathe2SS2010  \n",
      "779                            nie       Mathe2SS2010  \n",
      "780                         selten       Mathe2SS2010  \n",
      "781                            nie       Mathe2SS2010  \n",
      "782                         selten       Mathe2SS2010  \n",
      "\n",
      "[783 rows x 21 columns]\n"
     ]
    }
   ],
   "source": [
    "df = pd.read_excel(\"Statistik_Übung/Anhang/Urliste.xlsx\")\n",
    "print(df)"
   ]
  },
  {
   "cell_type": "markdown",
   "metadata": {},
   "source": [
    "Ohne den Befehl wird eine weitere Spalte eingefügt, welche mit 0 beginnt und 782 zählt. Wir merken uns für die Zukunft in dieser Veranstaltung: Immer wenn wir eine Excel-Tabelle einlesen, nutzen wir `index_col = 0` (so wie es in der Befehlsliste notiert ist). Was können wir noch tun?\n",
    "\n",
    "Zum einen können wir uns die Dimensionen (Zeilenanzahl und Spaltenanzahl) anschauen."
   ]
  },
  {
   "cell_type": "code",
   "execution_count": 100,
   "metadata": {},
   "outputs": [
    {
     "name": "stdout",
     "output_type": "stream",
     "text": [
      "Zeilen- und Spaltzenanzahl:  (783, 20)\n"
     ]
    }
   ],
   "source": [
    "df = pd.read_excel(\"Statistik_Übung/Anhang/Urliste.xlsx\", index_col = 0)\n",
    "print(\"Zeilen- und Spaltzenanzahl: \",df.shape)"
   ]
  },
  {
   "cell_type": "markdown",
   "metadata": {},
   "source": [
    "In DataFrames sind Spalten mit Überschriften versehen. Diese benötigen wir zum Navigieren und gezielten Ansteuern von bestimmten Spalten. Wir wollen in unserem kleinen Beispiel herausfinden, welche Antworten es auf die Frage \"Anzahl Geschwister\" gibt und wie oft diese Antworten prozentual gegeben wurden."
   ]
  },
  {
   "cell_type": "code",
   "execution_count": 110,
   "metadata": {},
   "outputs": [
    {
     "name": "stdout",
     "output_type": "stream",
     "text": [
      "Anzahl Geschwister\n",
      "1     0.462324\n",
      "2     0.237548\n",
      "0     0.155811\n",
      "3     0.079183\n",
      "4     0.034483\n",
      "6     0.011494\n",
      "5     0.010217\n",
      "8     0.003831\n",
      "10    0.002554\n",
      "7     0.002554\n",
      "Name: proportion, dtype: float64\n"
     ]
    }
   ],
   "source": [
    "p = pd.Series.value_counts(df[\"Anzahl Geschwister\"], normalize=True)\n",
    "print(p)"
   ]
  },
  {
   "cell_type": "markdown",
   "metadata": {},
   "source": [
    "Was sehen wir hier?$^*$ 46,23 % der Befragten besitzt ein Geschwisterchen und 2,5 % besitzen 10 Geschwister (bzw. 7 Geschwister) und 0 % besitzen 9 Geschwister. Außerdem hat niemand der Befragten 11 oder mehr Geschwister. Mit dem Befehl `pd.Series.value_counts` können wir eine Spalte unserer Wahl durchlaufen und die Antworten zählen lassen. Der Befehl gibt uns dann die Antworten sowie die prozentualen Anteile aus. Wozu ist das gut? Zum einen muss nicht von Hand gezählt werden, sollten wir die Daten benötigen und zum anderen können wir so Grafiken erzeugen, wie beispielsweise Kuchen- und Balkendiagramme. Mehr dazu in dem Kapitel: Nützliche Befehle zum Bearbeiten des Übungsblattes.\n",
    "\n",
    "Wir wollen nun, die mittlere Anzahl der Geschwister, sprich den Mittelwert errechnen. Und wir wissen, mit einem `numpy.array()` wäre das möglich. Können wir unsere gezählten Werte aus dem DataFrame in eine `numpy.array()` umwandeln? Ja das können wir und genau das werden wir auch tun.\n",
    "\n",
    "-----\n",
    "<font size=0.8em>\n",
    "$^*$ Mit normalize steuern wir ob wir relative (normalize=True) oder absolute (normalize=False) Werte haben wollen.\n",
    "</font>"
   ]
  },
  {
   "cell_type": "code",
   "execution_count": 133,
   "metadata": {},
   "outputs": [],
   "source": [
    "N = np.array(df[\"Anzahl Geschwister\"].dropna())"
   ]
  },
  {
   "cell_type": "markdown",
   "metadata": {},
   "source": [
    "Mit einem `numpy.array()` ist, wie wir wissen, das ohne weiteres möglich. Und so können wir wie im vorigen Kapitel den Mittelwert berechnen. Was bedeutet der Zusatz `.dropna()` ? Mit `.dropna()` werden fehlende Werte rausgeschmissen. Es könnte passieren, dass jemand die Frage nicht beantwortet hat und dadurch eine Lücke entsteht. Diese wollen wir nicht auswerten, daher schreiben wir diesen Zusatz mit hin.\n",
    "\n",
    "Grundsätzlich können wir uns merken: Wenn wir aus einem DataFrame ein `numpy.array()` generieren wollen, schreiben wir den Zusatz `.dropna()`."
   ]
  },
  {
   "cell_type": "code",
   "execution_count": 134,
   "metadata": {},
   "outputs": [
    {
     "name": "stdout",
     "output_type": "stream",
     "text": [
      "Mittelwert Anzahl Geschwister:  1.5070242656449553\n"
     ]
    }
   ],
   "source": [
    "print(\"Mittelwert Anzahl Geschwister: \",N.sum()/len(N))"
   ]
  },
  {
   "cell_type": "markdown",
   "metadata": {},
   "source": [
    "Was wäre, wenn wir nun das 30%-Quantil berechnen wollen? Auch das ist kein Problem, erstmal müssen wir herausfinden, wann die 30%-Marke überschritten wird."
   ]
  },
  {
   "cell_type": "code",
   "execution_count": 135,
   "metadata": {},
   "outputs": [
    {
     "name": "stdout",
     "output_type": "stream",
     "text": [
      "234.89999999999998\n"
     ]
    }
   ],
   "source": [
    "print(0.3 * len(N))"
   ]
  },
  {
   "cell_type": "markdown",
   "metadata": {},
   "source": [
    "Dies geschieht bei Person Nr. 234,899 --> aufgerundet Person Nr. 235. Das 30%-Quantil ist also der Wert, welchen Person 235 hat. Zwei Dinge gilt es zu beachten. Erstens müssen wir das `np.array()` sortieren und zweitens müssen wir von 0 Zählen."
   ]
  },
  {
   "cell_type": "code",
   "execution_count": 136,
   "metadata": {},
   "outputs": [
    {
     "name": "stdout",
     "output_type": "stream",
     "text": [
      "30%-Quantil:  1\n"
     ]
    }
   ],
   "source": [
    "print(\"30%-Quantil: \",np.sort(N)[234])"
   ]
  },
  {
   "cell_type": "markdown",
   "metadata": {},
   "source": [
    "Das 30%-Quantil liegt bei einem Geschwisterchen.\n",
    "\n",
    "Wir haben uns jetzt eine metrisch skalierte Größe angeschaut. Was wäre, wenn wir uns eine ordinal oder nominal skalierte Größe betrachten. Ändert sich etwas und wenn ja, was ändert sich? Dafür wollen wir uns die Spalte \"Wie oft spielen sie Roulette anschauen?\" anschauen."
   ]
  },
  {
   "cell_type": "code",
   "execution_count": 139,
   "metadata": {},
   "outputs": [
    {
     "name": "stdout",
     "output_type": "stream",
     "text": [
      "Wie oft spielen Sie Roulette ?\n",
      "nie           0.797941\n",
      "selten        0.199485\n",
      "regelmäßig    0.002574\n",
      "Name: proportion, dtype: float64\n"
     ]
    }
   ],
   "source": [
    "p = pd.Series.value_counts(df[\"Wie oft spielen Sie Roulette ?\"], normalize=True)\n",
    "print(p)"
   ]
  },
  {
   "cell_type": "markdown",
   "metadata": {},
   "source": [
    "Wenn wir einen Anteil händisch berechnen wollen, gehen wir wie folgt vor."
   ]
  },
  {
   "cell_type": "code",
   "execution_count": 146,
   "metadata": {},
   "outputs": [
    {
     "name": "stdout",
     "output_type": "stream",
     "text": [
      "Anteil nie:  0.797940797940798\n"
     ]
    }
   ],
   "source": [
    "N = np.array(df[\"Wie oft spielen Sie Roulette ?\"].dropna())\n",
    "print(\"Anteil nie: \",(N ==\"nie\").sum()/len(N))"
   ]
  },
  {
   "cell_type": "markdown",
   "metadata": {},
   "source": [
    "Wichtig dabei ist es bei `(N == \"nie\")` den richtigen Zeilennamen zu wählen.\n",
    "\n",
    "Wir wollen nun wieder das 30%-Quantil berechnen. Da wir keine Anhaltspunkte haben wie wir etwas anders machen sollen, gehen wir genauso vor, wie im Beispiel \"Anzahl Geschwister\"."
   ]
  },
  {
   "cell_type": "code",
   "execution_count": 145,
   "metadata": {},
   "outputs": [
    {
     "name": "stdout",
     "output_type": "stream",
     "text": [
      "233.1\n",
      "30%-Quantil:  nie\n"
     ]
    }
   ],
   "source": [
    "N = np.array(df[\"Wie oft spielen Sie Roulette ?\"].dropna())\n",
    "print(0.3 * len(N))\n",
    "print(\"30%-Quantil: \",np.sort(N)[233])"
   ]
  },
  {
   "cell_type": "markdown",
   "metadata": {},
   "source": [
    "Und wie wir sehen, klappt das genauso. Es bedarf keiner Veränderung unserer Überlegungen."
   ]
  },
  {
   "cell_type": "markdown",
   "metadata": {},
   "source": [
    "<a id=\"Plotten\"></a>\n",
    "## Plotten von Grafiken\n",
    "\n",
    "[nach oben](#Inhalt) "
   ]
  },
  {
   "cell_type": "markdown",
   "metadata": {},
   "source": [
    "Ein weiterer wichtiger Punkt, denn wir uns anschauen wollen ist das Plotten von Funktionen und Grafiken. Wir nutzen hierfür die Bibliothek `matplotlib.pyplot`. Diese müssen wir erstmal importieren."
   ]
  },
  {
   "cell_type": "code",
   "execution_count": 16,
   "metadata": {},
   "outputs": [],
   "source": [
    "import matplotlib.pyplot as plt"
   ]
  },
  {
   "cell_type": "markdown",
   "metadata": {},
   "source": [
    "Zuallererst plotten wir uns zwei Vektoren namens `C` und `D`.$^*$\n",
    "\n",
    "--------\n",
    "<font size=0.8em>\n",
    "$^*$ import matplotlib.pyplot as plt ist die gängige Abkürzung für den import der Bibliothek matplotlib.pyplot\n",
    "</font>"
   ]
  },
  {
   "cell_type": "code",
   "execution_count": 103,
   "metadata": {},
   "outputs": [
    {
     "data": {
      "image/png": "[encoded data removed]",
      "text/plain": [
       "<Figure size 640x480 with 1 Axes>"
      ]
     },
     "metadata": {},
     "output_type": "display_data"
    }
   ],
   "source": [
    "C = np.array([4,7,13,11,9,6,78,15,43])\n",
    "D = np.array([1, 2, 3, 4, 5, 6, 7, 8, 9])\n",
    "plt.plot(C)\n",
    "plt.plot(D)\n",
    "plt.show()"
   ]
  },
  {
   "cell_type": "markdown",
   "metadata": {},
   "source": [
    "Um einen Plot anzuzeigen, existiert der Befehl `plt.show()`. Mit `plt.plot()` werden Daten zugewiesen. Die x-Achse ist dabei der Index der Liste, sprich von null bis zur Länge der Liste verringert um 1. Wenn wir nun die Liste `D` als x-Achse nutzen wollen, schreiben wir folgendes."
   ]
  },
  {
   "cell_type": "code",
   "execution_count": 104,
   "metadata": {},
   "outputs": [
    {
     "data": {
      "image/png": "[encoded data removed]",
      "text/plain": [
       "<Figure size 640x480 with 1 Axes>"
      ]
     },
     "metadata": {},
     "output_type": "display_data"
    }
   ],
   "source": [
    "plt.plot(D,C)\n",
    "plt.show()"
   ]
  },
  {
   "cell_type": "markdown",
   "metadata": {},
   "source": [
    "Nun haben wir die x-Achse angepasst.\n",
    "\n",
    "Eine kleine technische Besonderheit: Wenn wir nach `plt.show()` wieder einen `plt.plot()` Befehl schreiben, wird dieser in einem neuen, leeren Fenster angezeigt. Jupyter-Notebooks führen am Ende einer jeden Zeile den Befehl `plt.show()` automatisiert aus, wenn die Bibliothek `matplotlib.pyplot` importiert wurde.\n",
    "`plt.show()` kann wie eine Art Trennzeichen betrachet werden, sollten wir noch weitere Grafiken ausgeben wollen. Es empfielt sich für jede Grafik die man gesondert Ausgeben möchte ein `plt.show()`-Befehl einzufügen. Notwendig ist dies jedoch, wie wir gleich sehen werden, nicht."
   ]
  },
  {
   "cell_type": "code",
   "execution_count": 107,
   "metadata": {},
   "outputs": [
    {
     "data": {
      "text/plain": [
       "[<matplotlib.lines.Line2D at 0x1e5d35fd210>]"
      ]
     },
     "execution_count": 107,
     "metadata": {},
     "output_type": "execute_result"
    },
    {
     "data": {
      "image/png": "[encoded data removed]",
      "text/plain": [
       "<Figure size 640x480 with 1 Axes>"
      ]
     },
     "metadata": {},
     "output_type": "display_data"
    }
   ],
   "source": [
    "plt.plot(C)\n",
    "plt.plot(D)"
   ]
  },
  {
   "cell_type": "code",
   "execution_count": 106,
   "metadata": {},
   "outputs": [
    {
     "data": {
      "image/png": "[encoded data removed]",
      "text/plain": [
       "<Figure size 640x480 with 1 Axes>"
      ]
     },
     "metadata": {},
     "output_type": "display_data"
    },
    {
     "data": {
      "text/plain": [
       "[<matplotlib.lines.Line2D at 0x1e5d33a8dd0>]"
      ]
     },
     "execution_count": 106,
     "metadata": {},
     "output_type": "execute_result"
    },
    {
     "data": {
      "image/png": "[encoded data removed]",
      "text/plain": [
       "<Figure size 640x480 with 1 Axes>"
      ]
     },
     "metadata": {},
     "output_type": "display_data"
    }
   ],
   "source": [
    "plt.plot(C)\n",
    "plt.show()\n",
    "plt.plot(D)"
   ]
  },
  {
   "cell_type": "markdown",
   "metadata": {},
   "source": [
    "<a id=\"Übung\"></a>\n",
    "## Nützliche Befehle zur Bearbeitung des ersten Übungsblattes\n",
    "\n",
    "[nach oben](#Inhalt) "
   ]
  },
  {
   "cell_type": "markdown",
   "metadata": {},
   "source": [
    "Alle die oben genannten Befehle werden wir im Laufe der Veranstaltungen benötigen. Zusätzlich wird die Anzahl der Befehle stetig zunehmen und einiges wird aufeinander aufbauen.\n",
    "Für das erste Übungsblatt kommen die folgenden Bibliotheken zum Einsatz:\n",
    "\n",
    "- `import numpy as np`\n",
    "- `import matplotlib.pyplot as plt`\n",
    "- `import scipy.stats as stats`\n",
    "- `import pandas as pd`\n",
    "\n",
    "Aus diesen Bibliotheken benötigen wir die folgenden Befehle:\n",
    "\n",
    "- np\n",
    "    - `np.quantile(X,y,method=\"inverted_cdf\")` (Quantilsberechnung)\n",
    "\n",
    "- stats\n",
    "    - `stats.ecdf(X).cdf.plot()` (Verteilungsfunktion)\n",
    "- plt\n",
    "    - `plt.bar(x = p.index, height = p)` (Balkendiagramm)\n",
    "    - `plt.pie(x = p, labels = p.index, autopct = \"%1.1f%%\")` (Kuchendiagramm)\n",
    "\n",
    "\n",
    "Die Befehle müssen nur an den Stellen angepasst werden an denen Variablen bzw. Datenmengen vorliegen, sprich `p`, `y`, `X`, `Y`. Das `x` bleibt unverändert! Die Datenmengen müssen natürlich entsprechend definiert werden. Alle anderen Inhalte eines Befehls, wie z.B. `method=\"inverted_cdf\"` sollen nicht verändert werden.      \n",
    "\n",
    "Es folgen einige Beispiele zur Anwendung dieser Befehle. Machen Sie sich mit den neuen Befehlen vertraut, bevor sie sich auf die Aufgabenblätter stürzen und stellen sie fragen, wenn Ihnen etwas unklar ist. Wichtig ist, dass sie verstehen, wie sie den Befehl anwenden sollen, um ein gewünschtes Ergebnis zu erziehlen."
   ]
  },
  {
   "cell_type": "code",
   "execution_count": 114,
   "metadata": {},
   "outputs": [
    {
     "name": "stdout",
     "output_type": "stream",
     "text": [
      "50%-Quantil =  5\n",
      "20%-Quantil =  3\n"
     ]
    }
   ],
   "source": [
    "import numpy as np\n",
    "A = [1,2,2,3,3,3,4,4,5,5,6,7,8,8,9,9,9]\n",
    "print(\"50%-Quantil = \",np.quantile(A,0.5,method=\"inverted_cdf\"))\n",
    "print(\"20%-Quantil = \",np.quantile(A,0.2,method=\"inverted_cdf\"))"
   ]
  },
  {
   "cell_type": "code",
   "execution_count": 96,
   "metadata": {},
   "outputs": [
    {
     "data": {
      "text/plain": [
       "[<matplotlib.lines.Line2D at 0x1e5cbf22050>]"
      ]
     },
     "execution_count": 96,
     "metadata": {},
     "output_type": "execute_result"
    },
    {
     "data": {
      "image/png": "[encoded data removed]",
      "text/plain": [
       "<Figure size 640x480 with 1 Axes>"
      ]
     },
     "metadata": {},
     "output_type": "display_data"
    }
   ],
   "source": [
    "import scipy.stats as stats\n",
    "stats.ecdf(A).cdf.plot()"
   ]
  },
  {
   "cell_type": "code",
   "execution_count": 112,
   "metadata": {},
   "outputs": [
    {
     "data": {
      "image/png": "[encoded data removed]",
      "text/plain": [
       "<Figure size 640x480 with 1 Axes>"
      ]
     },
     "metadata": {},
     "output_type": "display_data"
    }
   ],
   "source": [
    "p = pd.Series.value_counts(df[\"Anzahl Geschwister\"], normalize=True)\n",
    "plt.bar(x = p.index,height = p)\n",
    "plt.show()"
   ]
  },
  {
   "cell_type": "code",
   "execution_count": 113,
   "metadata": {},
   "outputs": [
    {
     "data": {
      "image/png": "[encoded data removed]",
      "text/plain": [
       "<Figure size 640x480 with 1 Axes>"
      ]
     },
     "metadata": {},
     "output_type": "display_data"
    }
   ],
   "source": [
    "p = pd.Series.value_counts(df[\"Anzahl Geschwister\"], normalize=True)\n",
    "plt.pie(x = p, labels= p.index, autopct = \"%1.1f%%\"); plt.show()\n",
    "plt.show()"
   ]
  },
  {
   "cell_type": "code",
   "execution_count": null,
   "metadata": {},
   "outputs": [],
   "source": []
  }
 ],
 "metadata": {
  "kernelspec": {
   "display_name": "Python 3 (ipykernel)",
   "language": "python",
   "name": "python3"
  },
  "language_info": {
   "codemirror_mode": {
    "name": "ipython",
    "version": 3
   },
   "file_extension": ".py",
   "mimetype": "text/x-python",
   "name": "python",
   "nbconvert_exporter": "python",
   "pygments_lexer": "ipython3",
   "version": "3.11.8"
  }
 },
 "nbformat": 4,
 "nbformat_minor": 4
}
