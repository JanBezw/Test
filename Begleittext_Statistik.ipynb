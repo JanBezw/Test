{
 "cells": [
  {
   "cell_type": "markdown",
   "metadata": {},
   "source": [
    "# Python: eine Einführung mit Jupyter-Notebooks\n",
    "\n",
    "BIS-124 | Statistik | Prof. Dr. Michael Autenrieth | Jan Bezwerk\n",
    "\n"
   ]
  },
  {
   "cell_type": "markdown",
   "metadata": {},
   "source": [
    "In der Veranstaltutung BIS-124 Statistik wird die Programmiersprache Python in Form von Jupyter-Notebooks genutzt. Dieses Dokument ist so ein Jupyter-Notebook. Die Jupyter-Notebooks sollen uns im Laufe der Veranstaltung als Taschenrechner, Zeichner von Funktionen und Graphen und als Tabellenwerk unterstützen. Mithilfe dieses Dokumentes, wollen wir in in das Thema einsteigen, einige Dinge ausprobieren und uns mit Jupyter-Notebooks vertraut machen."
   ]
  },
  {
   "cell_type": "markdown",
   "metadata": {},
   "source": [
    "<a id=\"Inhalt\"></a>\n",
    "## Inhalt\n",
    "\n",
    "* [Zugang zur Jupyter-Notebook Umgebung](#Zugang)\n",
    "* [Einfache Befehle in Python](#Einfach)\n",
    "* [Datenmengen in Python: Listen](#Liste)\n",
    "* [For Schleifen in Python](#for)\n",
    "* [Import von Modulen in Python](#Import)\n",
    "* [Plotten von Funktionen](#Plotten)"
   ]
  },
  {
   "cell_type": "markdown",
   "metadata": {},
   "source": [
    "<a id=\"Zugang\"></a>\n",
    "## Zugang zur Jupyter-Notebook Umgebung\n",
    "\n",
    "[nach oben](#Inhalt) \n"
   ]
  },
  {
   "cell_type": "markdown",
   "metadata": {},
   "source": [
    "Um auf Jupyter-Notebooks zuzugreifen wollen wir die GWDG-Cloud nutzen. Dafür öffnen wir den Link: https://jupyter-cloud.gwdg.de/ und klicken auf Login. Auf der nächsten Seite klicken wir auf den Button \"Föderierte Anmeldung\" und wählen die \"Hochschule Hannover University of applied sciences and arts\" aus und klicken auf Anmeldung fortsetzen. Abschließend geben wir unseren sso-Kennung sowie unser Password ein und drücken auf den orangenen Start-Button. Anschließend öffnet sich in Fenster mit vielen Kacheln und wir wählen im Reiter Notebook die Kachel Python 3 (ipykernel) aus.\n"
   ]
  },
  {
   "cell_type": "markdown",
   "metadata": {},
   "source": [
    "<a id=\"Einfach\"></a>\n",
    "## Einfache Befehle in Python\n",
    "\n",
    "[nach oben](#Inhalt) \n"
   ]
  },
  {
   "cell_type": "markdown",
   "metadata": {},
   "source": [
    "In Python müssen Zahlen und Texte als Variablen abgespeichert werden. Dies geschiet wie folgt:"
   ]
  },
  {
   "cell_type": "code",
   "execution_count": 5,
   "metadata": {},
   "outputs": [],
   "source": [
    "x = 2\n",
    "y = 2 + 4\n",
    "z = (x + y) * x"
   ]
  },
  {
   "cell_type": "markdown",
   "metadata": {},
   "source": [
    "Nicht nur Zahlen, auch Buchstaben, Wörter und ganze Texte können in Python Variablen zugewiesen werden. Dafür werden Anführungszeichen (\"\") verwendet. Mittels des Befehls print() können die gespeicherten Variablen ausgegeben werden. Mittels # kann ein Kommentar geschrieben. Dieser wird nicht ausgeführt."
   ]
  },
  {
   "cell_type": "code",
   "execution_count": 64,
   "metadata": {},
   "outputs": [
    {
     "name": "stdout",
     "output_type": "stream",
     "text": [
      "16\n",
      "Hallo\n"
     ]
    }
   ],
   "source": [
    "# Dies ist ein Kommentar\n",
    "a = \"Hallo\"\n",
    "print(z)\n",
    "print(a)"
   ]
  },
  {
   "cell_type": "markdown",
   "metadata": {},
   "source": [
    "Folgenden Berechnungen sind mit Python möglich:\n",
    "- Addition (+)\n",
    "- Multiplikation (*)\n",
    "- Subtraktion (-)\n",
    "- Division (/)\n",
    "- Potenzierung (**)\n",
    "\n",
    "Kommazahlen werden in Python nicht mit einem Komma sondern mit einem Punkt geschrieben (2.3)  \n",
    "Anbei ein paar Beispiele:"
   ]
  },
  {
   "cell_type": "code",
   "execution_count": 65,
   "metadata": {},
   "outputs": [
    {
     "name": "stdout",
     "output_type": "stream",
     "text": [
      "0.25 0.25 0.5 3\n"
     ]
    }
   ],
   "source": [
    "a = 1 / 4\n",
    "b = 0.5**2\n",
    "c = 0.25**(1/2)\n",
    "d = 0.25**(0.5)\n",
    "x = 3\n",
    "print(a,b,c,x)"
   ]
  },
  {
   "cell_type": "markdown",
   "metadata": {},
   "source": [
    "Mit einem Komma wird in Python ein Trennzeichen gesetzt. Dadurch lassen sich mehere Elemente ausgeben. Bei den Variablen c und d wird die Wurzel gezogen. Dies geschiet, indem man mit 1/2 potenziert. Variablen können auch überschrieben werden. Die Variable x war vorher 2 und wurde jetzt als 3 abgespeichert. "
   ]
  },
  {
   "cell_type": "markdown",
   "metadata": {},
   "source": [
    "<a id=\"Liste\"></a>\n",
    "## Datenmengen in Python: Listen\n",
    "\n",
    "[nach oben](#Inhalt) \n"
   ]
  },
  {
   "cell_type": "markdown",
   "metadata": {},
   "source": [
    "In Python gibt es verschiedenste Datenmengen mit unterschiedlichsten Eigenschaften. Zu Beginn wollen wir uns einem \"einfachen\" Datentyp widmen, der Liste. Wie in anderen Programmiersprachen üblich, haben Listen ihre eigene Syntax. Um eine Liste zu erstellen geht man wie folgt vor."
   ]
  },
  {
   "cell_type": "code",
   "execution_count": 20,
   "metadata": {},
   "outputs": [],
   "source": [
    "A = []"
   ]
  },
  {
   "cell_type": "markdown",
   "metadata": {},
   "source": [
    "Zwecks Differenzierung sind Listen mit Großbuchstaben und Variablen mit Kleinbuchstaben versehen. A ist eine leere Liste. Wenn wir sie ausgeben geschiet folgendes:"
   ]
  },
  {
   "cell_type": "code",
   "execution_count": 21,
   "metadata": {},
   "outputs": [
    {
     "name": "stdout",
     "output_type": "stream",
     "text": [
      "[]\n"
     ]
    }
   ],
   "source": [
    "print(A)"
   ]
  },
  {
   "cell_type": "markdown",
   "metadata": {},
   "source": [
    "Wir wollen aber eine Liste haben, welche gefüllt ist, beispielsweise mit den folgenden Zahlen: 0;1;2;2;3;5;7;9;11,2. Dafür gehen wir wie folgt vor:"
   ]
  },
  {
   "cell_type": "code",
   "execution_count": 22,
   "metadata": {},
   "outputs": [
    {
     "name": "stdout",
     "output_type": "stream",
     "text": [
      "[0, 1, 2, 2, 3, 5, 7, 9, 11.2]\n"
     ]
    }
   ],
   "source": [
    "B = [0,1,2,2,3,5,7,9,11.2]\n",
    "print(B)"
   ]
  },
  {
   "cell_type": "markdown",
   "metadata": {},
   "source": [
    "Um mit Listen zu arbeiten gibt es spezielle Befehle. Hier einige, welche für uns nützlich sind."
   ]
  },
  {
   "cell_type": "code",
   "execution_count": 44,
   "metadata": {},
   "outputs": [
    {
     "name": "stdout",
     "output_type": "stream",
     "text": [
      "[4, 6, 7, 9, 11, 13, 15, 78]\n",
      "8\n"
     ]
    }
   ],
   "source": [
    "C = [4,7,13,11,9,6,78,15]\n",
    "C.sort()\n",
    "print(C)\n",
    "print(len(C))"
   ]
  },
  {
   "cell_type": "markdown",
   "metadata": {},
   "source": [
    "Mit C.sort() wird eine Liste aufsteigend sortiert und mit len(C) wird die Anzahl der Elemente in der Liste C ausgegeben. Wir können auch Befehle printen und müssen diese nicht extra in Variablen speichern. Wenn wir einer Liste neue Elemente hinzufügen wollen, gehen wir wie folgt vor."
   ]
  },
  {
   "cell_type": "code",
   "execution_count": 45,
   "metadata": {},
   "outputs": [
    {
     "name": "stdout",
     "output_type": "stream",
     "text": [
      "[4, 6, 7, 9, 11, 13, 15, 78, 17]\n"
     ]
    }
   ],
   "source": [
    "C.append(17)\n",
    "print(C)"
   ]
  },
  {
   "cell_type": "markdown",
   "metadata": {},
   "source": [
    "Das Element 17 wurde der sortierten Liste C hinzugefügt. Wie in Java wird in Python die Elemente einer Liste beginnend mit 0 gezählt. C[0] wäre also das 1. Element der Liste"
   ]
  },
  {
   "cell_type": "code",
   "execution_count": 66,
   "metadata": {},
   "outputs": [
    {
     "name": "stdout",
     "output_type": "stream",
     "text": [
      "4 7\n"
     ]
    }
   ],
   "source": [
    "print(C[0],C[2])"
   ]
  },
  {
   "cell_type": "markdown",
   "metadata": {},
   "source": [
    "<a id=\"for\"></a>\n",
    "## For-Schleifen in Python\n",
    "\n",
    "[nach oben](#Inhalt)"
   ]
  },
  {
   "cell_type": "markdown",
   "metadata": {},
   "source": [
    "Wie bereits gelernt, gibt es drei Arten von Schleifen: For, if und while-Schleifen. Wir werden uns im Rahmen dieser Veranstaltung mit der for Schleife in Python begnügen. Mehr wird nicht notwendig sein. Wir wollen die for-Schleife nutzen um eine Liste zu erzeugen."
   ]
  },
  {
   "cell_type": "code",
   "execution_count": 60,
   "metadata": {},
   "outputs": [
    {
     "name": "stdout",
     "output_type": "stream",
     "text": [
      "[1, 2, 3, 4, 5, 6, 7, 8, 9]\n"
     ]
    }
   ],
   "source": [
    "D = []\n",
    "for x in range(1,10):\n",
    "    D.append(x)\n",
    "print(D)"
   ]
  },
  {
   "cell_type": "markdown",
   "metadata": {},
   "source": [
    "Der Befehl for x in range(0,10) stellt eine Liste von 0 bis 9 zusammen und jedes dieser Elemente wird mit D.append(x) zur Liste D hinzugefügt. x durchläuft dabei alle Elemente von 0 bis 9. Listen selbst können dabei als zu durchlaufende Elemente genutzt werden."
   ]
  },
  {
   "cell_type": "code",
   "execution_count": 47,
   "metadata": {},
   "outputs": [
    {
     "name": "stdout",
     "output_type": "stream",
     "text": [
      "[5, 7, 8, 10, 12, 14, 16, 79, 18]\n"
     ]
    }
   ],
   "source": [
    "E=[]\n",
    "for x in C:\n",
    "    E.append(x+1)\n",
    "print(E)"
   ]
  },
  {
   "cell_type": "markdown",
   "metadata": {},
   "source": [
    "In diesem Beispiel haben wir jedem Element der Liste C eins addiert und das neue Element der Liste E hinzugefügt."
   ]
  },
  {
   "cell_type": "markdown",
   "metadata": {},
   "source": [
    "<a id=\"Import\"></a>\n",
    "## Import von Modulen in Python\n",
    "\n",
    "[nach oben](#Inhalt) "
   ]
  },
  {
   "cell_type": "markdown",
   "metadata": {},
   "source": [
    "Eine Besonderheit in Python ist der Import von Modulen. Module sind bereits geschriebene Code-Bibliotheken mit fertigen und ggf. optimierten Funktionen, welche zur freien Verfügung stehen. Vorteil dieser Imports sind zum einen, dass der Code lesbarer wird und neue Funktionen nicht von vorne programmiert werden müssen. Ein import sieht wie folgt aus."
   ]
  },
  {
   "cell_type": "code",
   "execution_count": 33,
   "metadata": {},
   "outputs": [],
   "source": [
    "import numpy"
   ]
  },
  {
   "cell_type": "markdown",
   "metadata": {},
   "source": [
    "Wir importieren hier die Bibliothek numpy (Numerical Python). Man kann diesem import auch eine Abkürzung vergeben um etwas Schreibarbeit einzusparen."
   ]
  },
  {
   "cell_type": "code",
   "execution_count": 34,
   "metadata": {},
   "outputs": [],
   "source": [
    "import numpy as np"
   ]
  },
  {
   "cell_type": "markdown",
   "metadata": {},
   "source": [
    "Bibliotheken können unterschiedliche Größen aufweisen. Falls wir nur bestimmte Funktionen einer Bibliothek brauchen, um ggf. Speicherplatz zu sparen, können wir auch nur bestimmte Funktionen einer Bibliothek importieren. Wir wollen aus numpy die Funktionen min und max importieren und auf unsere Liste E anwenden."
   ]
  },
  {
   "cell_type": "code",
   "execution_count": 35,
   "metadata": {},
   "outputs": [
    {
     "name": "stdout",
     "output_type": "stream",
     "text": [
      "5 79\n"
     ]
    }
   ],
   "source": [
    "from numpy import min,max\n",
    "print(min(E),max(E))"
   ]
  },
  {
   "cell_type": "markdown",
   "metadata": {},
   "source": [
    "Wie wir sehen, wurden aus der Liste E das größte und kleinste Element ausgegeben, was uns die Funktionen min und max aus der Bibliothek numpy uns ermöglicht haben. Wir wollen jetzt den Mittelwert der Liste C und E uns anschauen und nutzen hierfür eine Funktion aus der numpy Bibliothek. Im Vergleich dazu schauen wir uns eine mögliche Lösung ohne import an."
   ]
  },
  {
   "cell_type": "code",
   "execution_count": 67,
   "metadata": {},
   "outputs": [
    {
     "name": "stdout",
     "output_type": "stream",
     "text": [
      "17.77777777777778 18.77777777777778\n",
      "17.77777777777778 18.77777777777778\n"
     ]
    }
   ],
   "source": [
    "import numpy as np\n",
    "print(np.mean(C),np.mean(E))\n",
    "x_C = (4 + 6 + 7 + 9 + 11 + 13 + 15 + 78 + 17) / len(C)\n",
    "x_E = (5 + 7 + 8 + 10 + 12 + 14 + 16 + 79 + 18) / len(E)\n",
    "print(x_C,x_E)"
   ]
  },
  {
   "cell_type": "markdown",
   "metadata": {},
   "source": [
    "Wie wir sehen, ist die Lösung mit numpy deutlich eleganter als eine mögliche Lösung ohne import."
   ]
  },
  {
   "cell_type": "markdown",
   "metadata": {},
   "source": [
    "<a id=\"Plotten\"></a>\n",
    "## Plotten von Funktionen\n",
    "\n",
    "[nach oben](#Inhalt) "
   ]
  },
  {
   "cell_type": "markdown",
   "metadata": {},
   "source": [
    "Abschließend wollen wir uns dem Plotten von Funktionen widmen. Wir nutzen hierfür die Bibliothek matplotlib.pyplot. Diese müssen wir erstmal importieren."
   ]
  },
  {
   "cell_type": "code",
   "execution_count": 53,
   "metadata": {},
   "outputs": [],
   "source": [
    "import matplotlib.pyplot as plt"
   ]
  },
  {
   "cell_type": "markdown",
   "metadata": {},
   "source": [
    "Erstmal plotten wir uns die Listen C und D."
   ]
  },
  {
   "cell_type": "code",
   "execution_count": 61,
   "metadata": {},
   "outputs": [
    {
     "data": {
      "text/plain": [
       "<function matplotlib.pyplot.show(close=None, block=None)>"
      ]
     },
     "execution_count": 61,
     "metadata": {},
     "output_type": "execute_result"
    },
    {
     "data": {
      "image/png": "[encoded data removed]",
      "text/plain": [
       "<Figure size 640x480 with 1 Axes>"
      ]
     },
     "metadata": {},
     "output_type": "display_data"
    }
   ],
   "source": [
    "plt.plot(C)\n",
    "plt.plot(D)\n",
    "plt.show"
   ]
  },
  {
   "cell_type": "markdown",
   "metadata": {},
   "source": [
    "Um einen Plot anzuzeigen, existiert der Befehl plt.show. Mit plt.plot werden Daten zugewiesen. Die X-Achse ist dabei der Index der Liste, sprich von null bis zur Länge der Liste verringert um 1. Wenn wir nun die Liste D als X-Achse nutzen wollen, schreiben wir folgendes."
   ]
  },
  {
   "cell_type": "code",
   "execution_count": 63,
   "metadata": {},
   "outputs": [
    {
     "data": {
      "text/plain": [
       "<function matplotlib.pyplot.show(close=None, block=None)>"
      ]
     },
     "execution_count": 63,
     "metadata": {},
     "output_type": "execute_result"
    },
    {
     "data": {
      "image/png": "[encoded data removed]",
      "text/plain": [
       "<Figure size 640x480 with 1 Axes>"
      ]
     },
     "metadata": {},
     "output_type": "display_data"
    }
   ],
   "source": [
    "plt.plot(D,C)\n",
    "plt.show"
   ]
  },
  {
   "cell_type": "markdown",
   "metadata": {},
   "source": [
    "Nun haben wir die X-Achse angepasst."
   ]
  },
  {
   "cell_type": "code",
   "execution_count": null,
   "metadata": {},
   "outputs": [],
   "source": []
  }
 ],
 "metadata": {
  "kernelspec": {
   "display_name": "Python 3 (ipykernel)",
   "language": "python",
   "name": "python3"
  },
  "language_info": {
   "codemirror_mode": {
    "name": "ipython",
    "version": 3
   },
   "file_extension": ".py",
   "mimetype": "text/x-python",
   "name": "python",
   "nbconvert_exporter": "python",
   "pygments_lexer": "ipython3",
   "version": "3.11.5"
  }
 },
 "nbformat": 4,
 "nbformat_minor": 4
}
